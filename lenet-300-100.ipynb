{
 "cells": [
  {
   "cell_type": "code",
   "execution_count": 1,
   "metadata": {},
   "outputs": [
    {
     "output_type": "stream",
     "name": "stdout",
     "text": "(60000, 28, 28)\n"
    }
   ],
   "source": [
    "import tensorflow as tf\n",
    "from tensorflow.keras.models import Sequential\n",
    "from tensorflow.keras.layers import Flatten, Dense, Dropout\n",
    "\n",
    "mnist = tf.keras.datasets.mnist\n",
    "\n",
    "(x_train, y_train), (x_test, y_test) = mnist.load_data()\n",
    "print(x_train.shape)\n",
    "\n",
    "x_train, x_test = x_train / 255.0, x_test / 255.0"
   ]
  },
  {
   "cell_type": "code",
   "execution_count": 51,
   "metadata": {},
   "outputs": [],
   "source": [
    "\n",
    "def lenet_300_100(inp=(28,28)):\n",
    "\n",
    "    model = Sequential()\n",
    "\n",
    "    model.add(Flatten(input_shape=inp))\n",
    "\n",
    "    model.add(Dense(300))\n",
    "    model.add(Dropout(0.2))\n",
    "\n",
    "    model.add(Dense(100))\n",
    "    model.add(Dropout(0.1))\n",
    "    model.add(Dense(10))\n",
    "\n",
    "    opt = tf.keras.optimizers.Adam(lr=(1.2*(10**-3)))\n",
    "    loss_fn = tf.keras.losses.SparseCategoricalCrossentropy(from_logits=True)\n",
    "\n",
    "    model.compile(optimizer=opt,\n",
    "              loss=loss_fn,\n",
    "              metrics=['accuracy'])\n",
    "\n",
    "    return model\n",
    "    "
   ]
  },
  {
   "cell_type": "code",
   "execution_count": 48,
   "metadata": {},
   "outputs": [],
   "source": [
    "model = lenet_300_100()\n"
   ]
  },
  {
   "cell_type": "code",
   "execution_count": 49,
   "metadata": {},
   "outputs": [
    {
     "output_type": "stream",
     "name": "stdout",
     "text": "Train on 60000 samples\nEpoch 1/5\n60000/60000 [==============================] - 4s 59us/sample - loss: 0.4235 - accuracy: 0.8752\nEpoch 2/5\n60000/60000 [==============================] - 3s 54us/sample - loss: 0.3535 - accuracy: 0.8997\nEpoch 3/5\n60000/60000 [==============================] - 3s 56us/sample - loss: 0.3389 - accuracy: 0.9047\nEpoch 4/5\n60000/60000 [==============================] - 3s 54us/sample - loss: 0.3298 - accuracy: 0.9071\nEpoch 5/5\n60000/60000 [==============================] - 3s 56us/sample - loss: 0.3273 - accuracy: 0.9078\n"
    },
    {
     "output_type": "execute_result",
     "data": {
      "text/plain": "<tensorflow.python.keras.callbacks.History at 0x7fb50ae4b470>"
     },
     "metadata": {},
     "execution_count": 49
    }
   ],
   "source": [
    "\n",
    "model.fit(x_train, y_train, batch_size=60, epochs=5)"
   ]
  },
  {
   "cell_type": "code",
   "execution_count": 50,
   "metadata": {},
   "outputs": [
    {
     "output_type": "stream",
     "name": "stdout",
     "text": "10000/10000 - 0s - loss: 0.3089 - accuracy: 0.9151\n"
    },
    {
     "output_type": "execute_result",
     "data": {
      "text/plain": "[0.30889117916822434, 0.9151]"
     },
     "metadata": {},
     "execution_count": 50
    }
   ],
   "source": [
    "model.evaluate(x_test,  y_test, verbose=2)"
   ]
  },
  {
   "cell_type": "code",
   "execution_count": 46,
   "metadata": {
    "tags": [
     "outputPrepend"
    ]
   },
   "outputs": [
    {
     "output_type": "stream",
     "name": "stdout",
     "text": "Model: \"sequential_6\"\n_________________________________________________________________\nLayer (type)                 Output Shape              Param #   \n=================================================================\nflatten_6 (Flatten)          (None, 784)               0         \n_________________________________________________________________\ndense_18 (Dense)             (None, 300)               235500    \n_________________________________________________________________\ndropout_12 (Dropout)         (None, 300)               0         \n_________________________________________________________________\ndense_19 (Dense)             (None, 100)               30100     \n_________________________________________________________________\ndropout_13 (Dropout)         (None, 100)               0         \n_________________________________________________________________\ndense_20 (Dense)             (None, 10)                1010      \n=================================================================\nTotal params: 266,610\nTrainable params: 266,610\nNon-trainable params: 0\n_________________________________________________________________\nNone\n(784, 300)\n(300,)\n(300, 100)\n(100,)\n(100, 10)\n(10,)\n"
    }
   ],
   "source": [
    "print(model.summary())\n",
    "ws = model.get_weights()\n",
    "for w in ws:\n",
    "    print(w.shape) "
   ]
  },
  {
   "cell_type": "code",
   "execution_count": null,
   "metadata": {},
   "outputs": [],
   "source": []
  }
 ],
 "metadata": {
  "language_info": {
   "codemirror_mode": {
    "name": "ipython",
    "version": 3
   },
   "file_extension": ".py",
   "mimetype": "text/x-python",
   "name": "python",
   "nbconvert_exporter": "python",
   "pygments_lexer": "ipython3",
   "version": "3.6.9-final"
  },
  "orig_nbformat": 2,
  "kernelspec": {
   "name": "python36964bit226bb7fa6fc7476e878c9a2416dc24fd",
   "display_name": "Python 3.6.9 64-bit"
  }
 },
 "nbformat": 4,
 "nbformat_minor": 2
}